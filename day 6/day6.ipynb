{
 "cells": [
  {
   "cell_type": "code",
   "execution_count": 2,
   "metadata": {},
   "outputs": [
    {
     "name": "stdout",
     "output_type": "stream",
     "text": [
      "ausgisd@google.com\n",
      "google\n"
     ]
    }
   ],
   "source": [
    "print(input().split(\"@\")[1].split(\".\")[0])"
   ]
  },
  {
   "cell_type": "code",
   "execution_count": 5,
   "metadata": {},
   "outputs": [
    {
     "name": "stdout",
     "output_type": "stream",
     "text": [
      "enter the sequence:without,hello,bag,world\n",
      "['bag', 'hello', 'without', 'world']\n"
     ]
    }
   ],
   "source": [
    "l=list(input(\"enter the sequence:\").split(','))\n",
    "l.sort()\n",
    "print(l)\n",
    "       "
   ]
  },
  {
   "cell_type": "code",
   "execution_count": 15,
   "metadata": {},
   "outputs": [
    {
     "name": "stdout",
     "output_type": "stream",
     "text": [
      "[3, 6, 8, 9, 10, 12]\n"
     ]
    }
   ],
   "source": [
    "def find_missing(lst):\n",
    "    return sorted(set(range(lst[0],lst[-1]))-set(lst))\n",
    "lst=[1,2,5,7,4,11,13]\n",
    "print(find_missing(lst))"
   ]
  },
  {
   "cell_type": "code",
   "execution_count": 9,
   "metadata": {
    "scrolled": true
   },
   "outputs": [
    {
     "name": "stdout",
     "output_type": "stream",
     "text": [
      "1 2 3 1  4 5 6 2 2 \n",
      "1 2 3 4 5 6\n"
     ]
    }
   ],
   "source": [
    "l=list(map(int, input().strip().split()))\n",
    "x=sorted(set(l))\n",
    "x=list(map(str,x))\n",
    "print(' '. join(x))\n"
   ]
  },
  {
   "cell_type": "code",
   "execution_count": 3,
   "metadata": {},
   "outputs": [
    {
     "name": "stdout",
     "output_type": "stream",
     "text": [
      "4\n",
      "3\n",
      "{'deeplearning', 'orange', 'ai', 'banana', 'apple', 'ds', 'mango'}\n",
      "{'banana', 'mango', 'orange', 'apple'}\n",
      "{'banana', 'mango', 'apple'}\n"
     ]
    }
   ],
   "source": [
    "set1={\"apple\",\"orange\",\"banana\"}\n",
    "set2={\"deeplearning\",\"ai\",\"ds\"}\n",
    "set1.add(\"mango\")\n",
    "print(len(set1))\n",
    "print(len(set2))\n",
    "set3=set1.union(set2)\n",
    "print(set3)\n",
    "print(set1)\n",
    "set1.remove(\"orange\")\n",
    "print(set1)\n"
   ]
  },
  {
   "cell_type": "code",
   "execution_count": null,
   "metadata": {},
   "outputs": [],
   "source": []
  },
  {
   "cell_type": "code",
   "execution_count": null,
   "metadata": {},
   "outputs": [],
   "source": []
  }
 ],
 "metadata": {
  "kernelspec": {
   "display_name": "Python 3",
   "language": "python",
   "name": "python3"
  },
  "language_info": {
   "codemirror_mode": {
    "name": "ipython",
    "version": 3
   },
   "file_extension": ".py",
   "mimetype": "text/x-python",
   "name": "python",
   "nbconvert_exporter": "python",
   "pygments_lexer": "ipython3",
   "version": "3.7.6"
  }
 },
 "nbformat": 4,
 "nbformat_minor": 4
}
